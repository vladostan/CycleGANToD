{
 "cells": [
  {
   "cell_type": "code",
   "execution_count": 1,
   "metadata": {},
   "outputs": [
    {
     "name": "stdout",
     "output_type": "stream",
     "text": [
      "<!DOCTYPE html>\n",
      "<html>\n",
      "  <head>\n",
      "    <title>Dominate your HTML</title>\n",
      "    <link href=\"style.css\" rel=\"stylesheet\">\n",
      "    <script src=\"script.js\" type=\"text/javascript\"></script>\n",
      "  </head>\n",
      "  <body>\n",
      "    <div id=\"header\">\n",
      "      <ol>\n",
      "        <li>\n",
      "          <a href=\"/home.html\">Home</a>\n",
      "        </li>\n",
      "        <li>\n",
      "          <a href=\"/about.html\">About</a>\n",
      "        </li>\n",
      "        <li>\n",
      "          <a href=\"/contact.html\">Contact</a>\n",
      "        </li>\n",
      "      </ol>\n",
      "    </div>\n",
      "    <div class=\"body\">\n",
      "      <p>Lorem ipsum..</p>\n",
      "    </div>\n",
      "  </body>\n",
      "</html>\n"
     ]
    }
   ],
   "source": [
    "import dominate\n",
    "from dominate.tags import *\n",
    "\n",
    "doc = dominate.document(title='Dominate your HTML')\n",
    "\n",
    "with doc.head:\n",
    "    link(rel='stylesheet', href='style.css')\n",
    "    script(type='text/javascript', src='script.js')\n",
    "\n",
    "with doc:\n",
    "    with div(id='header').add(ol()):\n",
    "        for i in ['home', 'about', 'contact']:\n",
    "            li(a(i.title(), href='/%s.html' % i))\n",
    "\n",
    "    with div():\n",
    "        attr(cls='body')\n",
    "        p('Lorem ipsum..')\n",
    "\n",
    "print(doc)"
   ]
  },
  {
   "cell_type": "code",
   "execution_count": null,
   "metadata": {},
   "outputs": [],
   "source": []
  }
 ],
 "metadata": {
  "kernelspec": {
   "display_name": "Python 3",
   "language": "python",
   "name": "python3"
  },
  "language_info": {
   "codemirror_mode": {
    "name": "ipython",
    "version": 3
   },
   "file_extension": ".py",
   "mimetype": "text/x-python",
   "name": "python",
   "nbconvert_exporter": "python",
   "pygments_lexer": "ipython3",
   "version": "3.6.5"
  }
 },
 "nbformat": 4,
 "nbformat_minor": 2
}
